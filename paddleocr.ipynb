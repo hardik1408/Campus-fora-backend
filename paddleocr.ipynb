{
  "nbformat": 4,
  "nbformat_minor": 0,
  "metadata": {
    "colab": {
      "provenance": [],
      "include_colab_link": true
    },
    "kernelspec": {
      "name": "python3",
      "display_name": "Python 3"
    },
    "language_info": {
      "name": "python"
    }
  },
  "cells": [
    {
      "cell_type": "markdown",
      "metadata": {
        "id": "view-in-github",
        "colab_type": "text"
      },
      "source": [
        "<a href=\"https://colab.research.google.com/github/hardik1408/Campus-fora-backend/blob/main/paddleocr.ipynb\" target=\"_parent\"><img src=\"https://colab.research.google.com/assets/colab-badge.svg\" alt=\"Open In Colab\"/></a>"
      ]
    },
    {
      "cell_type": "markdown",
      "source": [
        "\n",
        "\n",
        "># Install and Import Dependencies\n",
        "\n"
      ],
      "metadata": {
        "id": "nKVW2aClX2X1"
      }
    },
    {
      "cell_type": "code",
      "execution_count": null,
      "metadata": {
        "colab": {
          "base_uri": "https://localhost:8080/"
        },
        "id": "mtYrrb5-kPYU",
        "outputId": "512c3759-76c3-41b4-d226-b227f56a51a4"
      },
      "outputs": [
        {
          "output_type": "stream",
          "name": "stdout",
          "text": [
            "Collecting paddlepaddle\n",
            "  Downloading paddlepaddle-2.5.1-cp310-cp310-manylinux1_x86_64.whl (124.9 MB)\n",
            "\u001b[2K     \u001b[90m━━━━━━━━━━━━━━━━━━━━━━━━━━━━━━━━━━━━━━━━\u001b[0m \u001b[32m124.9/124.9 MB\u001b[0m \u001b[31m5.7 MB/s\u001b[0m eta \u001b[36m0:00:00\u001b[0m\n",
            "\u001b[?25hCollecting httpx (from paddlepaddle)\n",
            "  Downloading httpx-0.25.0-py3-none-any.whl (75 kB)\n",
            "\u001b[2K     \u001b[90m━━━━━━━━━━━━━━━━━━━━━━━━━━━━━━━━━━━━━━━━\u001b[0m \u001b[32m75.7/75.7 kB\u001b[0m \u001b[31m3.9 MB/s\u001b[0m eta \u001b[36m0:00:00\u001b[0m\n",
            "\u001b[?25hRequirement already satisfied: numpy>=1.13 in /usr/local/lib/python3.10/dist-packages (from paddlepaddle) (1.23.5)\n",
            "Requirement already satisfied: Pillow in /usr/local/lib/python3.10/dist-packages (from paddlepaddle) (9.4.0)\n",
            "Requirement already satisfied: decorator in /usr/local/lib/python3.10/dist-packages (from paddlepaddle) (4.4.2)\n",
            "Collecting astor (from paddlepaddle)\n",
            "  Downloading astor-0.8.1-py2.py3-none-any.whl (27 kB)\n",
            "Collecting paddle-bfloat==0.1.7 (from paddlepaddle)\n",
            "  Downloading paddle_bfloat-0.1.7-cp310-cp310-manylinux_2_17_x86_64.manylinux2014_x86_64.whl (383 kB)\n",
            "\u001b[2K     \u001b[90m━━━━━━━━━━━━━━━━━━━━━━━━━━━━━━━━━━━━━━━━\u001b[0m \u001b[32m383.2/383.2 kB\u001b[0m \u001b[31m29.5 MB/s\u001b[0m eta \u001b[36m0:00:00\u001b[0m\n",
            "\u001b[?25hRequirement already satisfied: opt-einsum==3.3.0 in /usr/local/lib/python3.10/dist-packages (from paddlepaddle) (3.3.0)\n",
            "Requirement already satisfied: protobuf>=3.20.2 in /usr/local/lib/python3.10/dist-packages (from paddlepaddle) (3.20.3)\n",
            "Requirement already satisfied: certifi in /usr/local/lib/python3.10/dist-packages (from httpx->paddlepaddle) (2023.7.22)\n",
            "Collecting httpcore<0.19.0,>=0.18.0 (from httpx->paddlepaddle)\n",
            "  Downloading httpcore-0.18.0-py3-none-any.whl (76 kB)\n",
            "\u001b[2K     \u001b[90m━━━━━━━━━━━━━━━━━━━━━━━━━━━━━━━━━━━━━━━━\u001b[0m \u001b[32m76.0/76.0 kB\u001b[0m \u001b[31m8.1 MB/s\u001b[0m eta \u001b[36m0:00:00\u001b[0m\n",
            "\u001b[?25hRequirement already satisfied: idna in /usr/local/lib/python3.10/dist-packages (from httpx->paddlepaddle) (3.4)\n",
            "Requirement already satisfied: sniffio in /usr/local/lib/python3.10/dist-packages (from httpx->paddlepaddle) (1.3.0)\n",
            "Requirement already satisfied: anyio<5.0,>=3.0 in /usr/local/lib/python3.10/dist-packages (from httpcore<0.19.0,>=0.18.0->httpx->paddlepaddle) (3.7.1)\n",
            "Collecting h11<0.15,>=0.13 (from httpcore<0.19.0,>=0.18.0->httpx->paddlepaddle)\n",
            "  Downloading h11-0.14.0-py3-none-any.whl (58 kB)\n",
            "\u001b[2K     \u001b[90m━━━━━━━━━━━━━━━━━━━━━━━━━━━━━━━━━━━━━━━━\u001b[0m \u001b[32m58.3/58.3 kB\u001b[0m \u001b[31m6.0 MB/s\u001b[0m eta \u001b[36m0:00:00\u001b[0m\n",
            "\u001b[?25hRequirement already satisfied: exceptiongroup in /usr/local/lib/python3.10/dist-packages (from anyio<5.0,>=3.0->httpcore<0.19.0,>=0.18.0->httpx->paddlepaddle) (1.1.3)\n",
            "Installing collected packages: paddle-bfloat, h11, astor, httpcore, httpx, paddlepaddle\n",
            "Successfully installed astor-0.8.1 h11-0.14.0 httpcore-0.18.0 httpx-0.25.0 paddle-bfloat-0.1.7 paddlepaddle-2.5.1\n"
          ]
        }
      ],
      "source": [
        "!python3 -m pip install paddlepaddle\n"
      ]
    },
    {
      "cell_type": "code",
      "source": [
        "!pip install \"paddleocr>=2.0.1\"\n"
      ],
      "metadata": {
        "colab": {
          "base_uri": "https://localhost:8080/",
          "height": 1000
        },
        "id": "c4Ri2FcrkQOu",
        "outputId": "beb0fcf4-0101-40f6-a444-76c71d65eb5a"
      },
      "execution_count": null,
      "outputs": [
        {
          "output_type": "stream",
          "name": "stdout",
          "text": [
            "Collecting paddleocr>=2.0.1\n",
            "  Downloading paddleocr-2.7.0.3-py3-none-any.whl (465 kB)\n",
            "\u001b[2K     \u001b[90m━━━━━━━━━━━━━━━━━━━━━━━━━━━━━━━━━━━━━━━━\u001b[0m \u001b[32m465.7/465.7 kB\u001b[0m \u001b[31m5.3 MB/s\u001b[0m eta \u001b[36m0:00:00\u001b[0m\n",
            "\u001b[?25hRequirement already satisfied: shapely in /usr/local/lib/python3.10/dist-packages (from paddleocr>=2.0.1) (2.0.1)\n",
            "Requirement already satisfied: scikit-image in /usr/local/lib/python3.10/dist-packages (from paddleocr>=2.0.1) (0.19.3)\n",
            "Requirement already satisfied: imgaug in /usr/local/lib/python3.10/dist-packages (from paddleocr>=2.0.1) (0.4.0)\n",
            "Collecting pyclipper (from paddleocr>=2.0.1)\n",
            "  Downloading pyclipper-1.3.0.post5-cp310-cp310-manylinux_2_12_x86_64.manylinux2010_x86_64.whl (908 kB)\n",
            "\u001b[2K     \u001b[90m━━━━━━━━━━━━━━━━━━━━━━━━━━━━━━━━━━━━━━━━\u001b[0m \u001b[32m908.3/908.3 kB\u001b[0m \u001b[31m12.0 MB/s\u001b[0m eta \u001b[36m0:00:00\u001b[0m\n",
            "\u001b[?25hCollecting lmdb (from paddleocr>=2.0.1)\n",
            "  Downloading lmdb-1.4.1-cp310-cp310-manylinux_2_17_x86_64.manylinux2014_x86_64.whl (299 kB)\n",
            "\u001b[2K     \u001b[90m━━━━━━━━━━━━━━━━━━━━━━━━━━━━━━━━━━━━━━━━\u001b[0m \u001b[32m299.2/299.2 kB\u001b[0m \u001b[31m14.3 MB/s\u001b[0m eta \u001b[36m0:00:00\u001b[0m\n",
            "\u001b[?25hRequirement already satisfied: tqdm in /usr/local/lib/python3.10/dist-packages (from paddleocr>=2.0.1) (4.66.1)\n",
            "Requirement already satisfied: numpy in /usr/local/lib/python3.10/dist-packages (from paddleocr>=2.0.1) (1.23.5)\n",
            "Collecting visualdl (from paddleocr>=2.0.1)\n",
            "  Downloading visualdl-2.5.3-py3-none-any.whl (6.3 MB)\n",
            "\u001b[2K     \u001b[90m━━━━━━━━━━━━━━━━━━━━━━━━━━━━━━━━━━━━━━━━\u001b[0m \u001b[32m6.3/6.3 MB\u001b[0m \u001b[31m21.3 MB/s\u001b[0m eta \u001b[36m0:00:00\u001b[0m\n",
            "\u001b[?25hCollecting rapidfuzz (from paddleocr>=2.0.1)\n",
            "  Downloading rapidfuzz-3.4.0-cp310-cp310-manylinux_2_17_x86_64.manylinux2014_x86_64.whl (3.2 MB)\n",
            "\u001b[2K     \u001b[90m━━━━━━━━━━━━━━━━━━━━━━━━━━━━━━━━━━━━━━━━\u001b[0m \u001b[32m3.2/3.2 MB\u001b[0m \u001b[31m39.1 MB/s\u001b[0m eta \u001b[36m0:00:00\u001b[0m\n",
            "\u001b[?25hCollecting opencv-python<=4.6.0.66 (from paddleocr>=2.0.1)\n",
            "  Downloading opencv_python-4.6.0.66-cp36-abi3-manylinux_2_17_x86_64.manylinux2014_x86_64.whl (60.9 MB)\n",
            "\u001b[2K     \u001b[90m━━━━━━━━━━━━━━━━━━━━━━━━━━━━━━━━━━━━━━━━\u001b[0m \u001b[32m60.9/60.9 MB\u001b[0m \u001b[31m8.7 MB/s\u001b[0m eta \u001b[36m0:00:00\u001b[0m\n",
            "\u001b[?25hCollecting opencv-contrib-python<=4.6.0.66 (from paddleocr>=2.0.1)\n",
            "  Downloading opencv_contrib_python-4.6.0.66-cp36-abi3-manylinux_2_17_x86_64.manylinux2014_x86_64.whl (67.1 MB)\n",
            "\u001b[2K     \u001b[90m━━━━━━━━━━━━━━━━━━━━━━━━━━━━━━━━━━━━━━━━\u001b[0m \u001b[32m67.1/67.1 MB\u001b[0m \u001b[31m8.1 MB/s\u001b[0m eta \u001b[36m0:00:00\u001b[0m\n",
            "\u001b[?25hRequirement already satisfied: cython in /usr/local/lib/python3.10/dist-packages (from paddleocr>=2.0.1) (3.0.3)\n",
            "Requirement already satisfied: lxml in /usr/local/lib/python3.10/dist-packages (from paddleocr>=2.0.1) (4.9.3)\n",
            "Collecting premailer (from paddleocr>=2.0.1)\n",
            "  Downloading premailer-3.10.0-py2.py3-none-any.whl (19 kB)\n",
            "Requirement already satisfied: openpyxl in /usr/local/lib/python3.10/dist-packages (from paddleocr>=2.0.1) (3.1.2)\n",
            "Collecting attrdict (from paddleocr>=2.0.1)\n",
            "  Downloading attrdict-2.0.1-py2.py3-none-any.whl (9.9 kB)\n",
            "Collecting PyMuPDF<1.21.0 (from paddleocr>=2.0.1)\n",
            "  Downloading PyMuPDF-1.20.2-cp310-cp310-manylinux_2_17_x86_64.manylinux2014_x86_64.whl (8.9 MB)\n",
            "\u001b[2K     \u001b[90m━━━━━━━━━━━━━━━━━━━━━━━━━━━━━━━━━━━━━━━━\u001b[0m \u001b[32m8.9/8.9 MB\u001b[0m \u001b[31m55.4 MB/s\u001b[0m eta \u001b[36m0:00:00\u001b[0m\n",
            "\u001b[?25hCollecting Pillow>=10.0.0 (from paddleocr>=2.0.1)\n",
            "  Downloading Pillow-10.1.0-cp310-cp310-manylinux_2_28_x86_64.whl (3.6 MB)\n",
            "\u001b[2K     \u001b[90m━━━━━━━━━━━━━━━━━━━━━━━━━━━━━━━━━━━━━━━━\u001b[0m \u001b[32m3.6/3.6 MB\u001b[0m \u001b[31m25.8 MB/s\u001b[0m eta \u001b[36m0:00:00\u001b[0m\n",
            "\u001b[?25hRequirement already satisfied: pyyaml in /usr/local/lib/python3.10/dist-packages (from paddleocr>=2.0.1) (6.0.1)\n",
            "Collecting python-docx (from paddleocr>=2.0.1)\n",
            "  Downloading python_docx-1.0.1-py3-none-any.whl (237 kB)\n",
            "\u001b[2K     \u001b[90m━━━━━━━━━━━━━━━━━━━━━━━━━━━━━━━━━━━━━━━━\u001b[0m \u001b[32m237.4/237.4 kB\u001b[0m \u001b[31m15.2 MB/s\u001b[0m eta \u001b[36m0:00:00\u001b[0m\n",
            "\u001b[?25hRequirement already satisfied: beautifulsoup4 in /usr/local/lib/python3.10/dist-packages (from paddleocr>=2.0.1) (4.11.2)\n",
            "Requirement already satisfied: fonttools>=4.24.0 in /usr/local/lib/python3.10/dist-packages (from paddleocr>=2.0.1) (4.43.1)\n",
            "Collecting fire>=0.3.0 (from paddleocr>=2.0.1)\n",
            "  Downloading fire-0.5.0.tar.gz (88 kB)\n",
            "\u001b[2K     \u001b[90m━━━━━━━━━━━━━━━━━━━━━━━━━━━━━━━━━━━━━━━━\u001b[0m \u001b[32m88.3/88.3 kB\u001b[0m \u001b[31m5.9 MB/s\u001b[0m eta \u001b[36m0:00:00\u001b[0m\n",
            "\u001b[?25h  Preparing metadata (setup.py) ... \u001b[?25l\u001b[?25hdone\n",
            "Collecting pdf2docx (from paddleocr>=2.0.1)\n",
            "  Downloading pdf2docx-0.5.6-py3-none-any.whl (148 kB)\n",
            "\u001b[2K     \u001b[90m━━━━━━━━━━━━━━━━━━━━━━━━━━━━━━━━━━━━━━━━\u001b[0m \u001b[32m148.4/148.4 kB\u001b[0m \u001b[31m14.7 MB/s\u001b[0m eta \u001b[36m0:00:00\u001b[0m\n",
            "\u001b[?25hRequirement already satisfied: six in /usr/local/lib/python3.10/dist-packages (from fire>=0.3.0->paddleocr>=2.0.1) (1.16.0)\n",
            "Requirement already satisfied: termcolor in /usr/local/lib/python3.10/dist-packages (from fire>=0.3.0->paddleocr>=2.0.1) (2.3.0)\n",
            "Requirement already satisfied: soupsieve>1.2 in /usr/local/lib/python3.10/dist-packages (from beautifulsoup4->paddleocr>=2.0.1) (2.5)\n",
            "Requirement already satisfied: scipy in /usr/local/lib/python3.10/dist-packages (from imgaug->paddleocr>=2.0.1) (1.11.3)\n",
            "Requirement already satisfied: matplotlib in /usr/local/lib/python3.10/dist-packages (from imgaug->paddleocr>=2.0.1) (3.7.1)\n",
            "Requirement already satisfied: imageio in /usr/local/lib/python3.10/dist-packages (from imgaug->paddleocr>=2.0.1) (2.31.5)\n",
            "Requirement already satisfied: networkx>=2.2 in /usr/local/lib/python3.10/dist-packages (from scikit-image->paddleocr>=2.0.1) (3.1)\n",
            "Requirement already satisfied: tifffile>=2019.7.26 in /usr/local/lib/python3.10/dist-packages (from scikit-image->paddleocr>=2.0.1) (2023.9.26)\n",
            "Requirement already satisfied: PyWavelets>=1.1.1 in /usr/local/lib/python3.10/dist-packages (from scikit-image->paddleocr>=2.0.1) (1.4.1)\n",
            "Requirement already satisfied: packaging>=20.0 in /usr/local/lib/python3.10/dist-packages (from scikit-image->paddleocr>=2.0.1) (23.2)\n",
            "Requirement already satisfied: et-xmlfile in /usr/local/lib/python3.10/dist-packages (from openpyxl->paddleocr>=2.0.1) (1.1.0)\n",
            "Requirement already satisfied: typing-extensions in /usr/local/lib/python3.10/dist-packages (from python-docx->paddleocr>=2.0.1) (4.5.0)\n",
            "Collecting cssselect (from premailer->paddleocr>=2.0.1)\n",
            "  Downloading cssselect-1.2.0-py2.py3-none-any.whl (18 kB)\n",
            "Collecting cssutils (from premailer->paddleocr>=2.0.1)\n",
            "  Downloading cssutils-2.9.0-py3-none-any.whl (398 kB)\n",
            "\u001b[2K     \u001b[90m━━━━━━━━━━━━━━━━━━━━━━━━━━━━━━━━━━━━━━━━\u001b[0m \u001b[32m398.5/398.5 kB\u001b[0m \u001b[31m29.5 MB/s\u001b[0m eta \u001b[36m0:00:00\u001b[0m\n",
            "\u001b[?25hRequirement already satisfied: requests in /usr/local/lib/python3.10/dist-packages (from premailer->paddleocr>=2.0.1) (2.31.0)\n",
            "Requirement already satisfied: cachetools in /usr/local/lib/python3.10/dist-packages (from premailer->paddleocr>=2.0.1) (5.3.1)\n",
            "Collecting bce-python-sdk (from visualdl->paddleocr>=2.0.1)\n",
            "  Downloading bce_python_sdk-0.8.90-py3-none-any.whl (235 kB)\n",
            "\u001b[2K     \u001b[90m━━━━━━━━━━━━━━━━━━━━━━━━━━━━━━━━━━━━━━━━\u001b[0m \u001b[32m235.3/235.3 kB\u001b[0m \u001b[31m22.0 MB/s\u001b[0m eta \u001b[36m0:00:00\u001b[0m\n",
            "\u001b[?25hRequirement already satisfied: flask>=1.1.1 in /usr/local/lib/python3.10/dist-packages (from visualdl->paddleocr>=2.0.1) (2.2.5)\n",
            "Collecting Flask-Babel>=3.0.0 (from visualdl->paddleocr>=2.0.1)\n",
            "  Downloading flask_babel-4.0.0-py3-none-any.whl (9.6 kB)\n",
            "Requirement already satisfied: protobuf>=3.20.0 in /usr/local/lib/python3.10/dist-packages (from visualdl->paddleocr>=2.0.1) (3.20.3)\n",
            "Requirement already satisfied: pandas in /usr/local/lib/python3.10/dist-packages (from visualdl->paddleocr>=2.0.1) (1.5.3)\n",
            "Collecting rarfile (from visualdl->paddleocr>=2.0.1)\n",
            "  Downloading rarfile-4.1-py3-none-any.whl (28 kB)\n",
            "Requirement already satisfied: psutil in /usr/local/lib/python3.10/dist-packages (from visualdl->paddleocr>=2.0.1) (5.9.5)\n",
            "Requirement already satisfied: Werkzeug>=2.2.2 in /usr/local/lib/python3.10/dist-packages (from flask>=1.1.1->visualdl->paddleocr>=2.0.1) (3.0.0)\n",
            "Requirement already satisfied: Jinja2>=3.0 in /usr/local/lib/python3.10/dist-packages (from flask>=1.1.1->visualdl->paddleocr>=2.0.1) (3.1.2)\n",
            "Requirement already satisfied: itsdangerous>=2.0 in /usr/local/lib/python3.10/dist-packages (from flask>=1.1.1->visualdl->paddleocr>=2.0.1) (2.1.2)\n",
            "Requirement already satisfied: click>=8.0 in /usr/local/lib/python3.10/dist-packages (from flask>=1.1.1->visualdl->paddleocr>=2.0.1) (8.1.7)\n",
            "Requirement already satisfied: Babel>=2.12 in /usr/local/lib/python3.10/dist-packages (from Flask-Babel>=3.0.0->visualdl->paddleocr>=2.0.1) (2.13.0)\n",
            "Requirement already satisfied: pytz>=2022.7 in /usr/local/lib/python3.10/dist-packages (from Flask-Babel>=3.0.0->visualdl->paddleocr>=2.0.1) (2023.3.post1)\n",
            "Collecting pycryptodome>=3.8.0 (from bce-python-sdk->visualdl->paddleocr>=2.0.1)\n",
            "  Downloading pycryptodome-3.19.0-cp35-abi3-manylinux_2_17_x86_64.manylinux2014_x86_64.whl (2.1 MB)\n",
            "\u001b[2K     \u001b[90m━━━━━━━━━━━━━━━━━━━━━━━━━━━━━━━━━━━━━━━━\u001b[0m \u001b[32m2.1/2.1 MB\u001b[0m \u001b[31m60.8 MB/s\u001b[0m eta \u001b[36m0:00:00\u001b[0m\n",
            "\u001b[?25hRequirement already satisfied: future>=0.6.0 in /usr/local/lib/python3.10/dist-packages (from bce-python-sdk->visualdl->paddleocr>=2.0.1) (0.18.3)\n",
            "Requirement already satisfied: contourpy>=1.0.1 in /usr/local/lib/python3.10/dist-packages (from matplotlib->imgaug->paddleocr>=2.0.1) (1.1.1)\n",
            "Requirement already satisfied: cycler>=0.10 in /usr/local/lib/python3.10/dist-packages (from matplotlib->imgaug->paddleocr>=2.0.1) (0.12.1)\n",
            "Requirement already satisfied: kiwisolver>=1.0.1 in /usr/local/lib/python3.10/dist-packages (from matplotlib->imgaug->paddleocr>=2.0.1) (1.4.5)\n",
            "Requirement already satisfied: pyparsing>=2.3.1 in /usr/local/lib/python3.10/dist-packages (from matplotlib->imgaug->paddleocr>=2.0.1) (3.1.1)\n",
            "Requirement already satisfied: python-dateutil>=2.7 in /usr/local/lib/python3.10/dist-packages (from matplotlib->imgaug->paddleocr>=2.0.1) (2.8.2)\n",
            "Requirement already satisfied: charset-normalizer<4,>=2 in /usr/local/lib/python3.10/dist-packages (from requests->premailer->paddleocr>=2.0.1) (3.3.0)\n",
            "Requirement already satisfied: idna<4,>=2.5 in /usr/local/lib/python3.10/dist-packages (from requests->premailer->paddleocr>=2.0.1) (3.4)\n",
            "Requirement already satisfied: urllib3<3,>=1.21.1 in /usr/local/lib/python3.10/dist-packages (from requests->premailer->paddleocr>=2.0.1) (2.0.6)\n",
            "Requirement already satisfied: certifi>=2017.4.17 in /usr/local/lib/python3.10/dist-packages (from requests->premailer->paddleocr>=2.0.1) (2023.7.22)\n",
            "Requirement already satisfied: MarkupSafe>=2.0 in /usr/local/lib/python3.10/dist-packages (from Jinja2>=3.0->flask>=1.1.1->visualdl->paddleocr>=2.0.1) (2.1.3)\n",
            "Building wheels for collected packages: fire\n",
            "  Building wheel for fire (setup.py) ... \u001b[?25l\u001b[?25hdone\n",
            "  Created wheel for fire: filename=fire-0.5.0-py2.py3-none-any.whl size=116934 sha256=aefcfa29c191f7903ee91864bf55da4d52aaf1de5cb18193861e41459b14752d\n",
            "  Stored in directory: /root/.cache/pip/wheels/90/d4/f7/9404e5db0116bd4d43e5666eaa3e70ab53723e1e3ea40c9a95\n",
            "Successfully built fire\n",
            "Installing collected packages: pyclipper, lmdb, rarfile, rapidfuzz, python-docx, PyMuPDF, pycryptodome, Pillow, opencv-python, opencv-contrib-python, fire, cssutils, cssselect, attrdict, premailer, pdf2docx, bce-python-sdk, Flask-Babel, visualdl, paddleocr\n",
            "  Attempting uninstall: Pillow\n",
            "    Found existing installation: Pillow 9.4.0\n",
            "    Uninstalling Pillow-9.4.0:\n",
            "      Successfully uninstalled Pillow-9.4.0\n",
            "  Attempting uninstall: opencv-python\n",
            "    Found existing installation: opencv-python 4.8.0.76\n",
            "    Uninstalling opencv-python-4.8.0.76:\n",
            "      Successfully uninstalled opencv-python-4.8.0.76\n",
            "  Attempting uninstall: opencv-contrib-python\n",
            "    Found existing installation: opencv-contrib-python 4.8.0.76\n",
            "    Uninstalling opencv-contrib-python-4.8.0.76:\n",
            "      Successfully uninstalled opencv-contrib-python-4.8.0.76\n",
            "Successfully installed Flask-Babel-4.0.0 Pillow-10.1.0 PyMuPDF-1.20.2 attrdict-2.0.1 bce-python-sdk-0.8.90 cssselect-1.2.0 cssutils-2.9.0 fire-0.5.0 lmdb-1.4.1 opencv-contrib-python-4.6.0.66 opencv-python-4.6.0.66 paddleocr-2.7.0.3 pdf2docx-0.5.6 premailer-3.10.0 pyclipper-1.3.0.post5 pycryptodome-3.19.0 python-docx-1.0.1 rapidfuzz-3.4.0 rarfile-4.1 visualdl-2.5.3\n"
          ]
        },
        {
          "output_type": "display_data",
          "data": {
            "application/vnd.colab-display-data+json": {
              "pip_warning": {
                "packages": [
                  "PIL"
                ]
              }
            }
          },
          "metadata": {}
        }
      ]
    },
    {
      "cell_type": "code",
      "source": [
        "!wget http://nz2.archive.ubuntu.com/ubuntu/pool/main/o/openssl/libssl1.1_1.1.1f-1ubuntu2.19_amd64.deb\n",
        "!sudo dpkg -i libssl1.1_1.1.1f-1ubuntu2.19_amd64.deb"
      ],
      "metadata": {
        "colab": {
          "base_uri": "https://localhost:8080/"
        },
        "id": "TxzSKVyZkQKn",
        "outputId": "935b464e-d5ed-40a3-a284-7e8b1190ba99"
      },
      "execution_count": null,
      "outputs": [
        {
          "output_type": "stream",
          "name": "stdout",
          "text": [
            "--2023-10-16 07:06:54--  http://nz2.archive.ubuntu.com/ubuntu/pool/main/o/openssl/libssl1.1_1.1.1f-1ubuntu2.19_amd64.deb\n",
            "Resolving nz2.archive.ubuntu.com (nz2.archive.ubuntu.com)... 185.125.190.36, 91.189.91.83, 91.189.91.81, ...\n",
            "Connecting to nz2.archive.ubuntu.com (nz2.archive.ubuntu.com)|185.125.190.36|:80... connected.\n",
            "HTTP request sent, awaiting response... 200 OK\n",
            "Length: 1321244 (1.3M) [application/x-debian-package]\n",
            "Saving to: ‘libssl1.1_1.1.1f-1ubuntu2.19_amd64.deb’\n",
            "\n",
            "libssl1.1_1.1.1f-1u 100%[===================>]   1.26M  1.93MB/s    in 0.7s    \n",
            "\n",
            "2023-10-16 07:06:55 (1.93 MB/s) - ‘libssl1.1_1.1.1f-1ubuntu2.19_amd64.deb’ saved [1321244/1321244]\n",
            "\n",
            "Selecting previously unselected package libssl1.1:amd64.\n",
            "(Reading database ... 120875 files and directories currently installed.)\n",
            "Preparing to unpack libssl1.1_1.1.1f-1ubuntu2.19_amd64.deb ...\n",
            "Unpacking libssl1.1:amd64 (1.1.1f-1ubuntu2.19) ...\n",
            "Setting up libssl1.1:amd64 (1.1.1f-1ubuntu2.19) ...\n",
            "debconf: unable to initialize frontend: Dialog\n",
            "debconf: (No usable dialog-like program is installed, so the dialog based frontend cannot be used. at /usr/share/perl5/Debconf/FrontEnd/Dialog.pm line 78.)\n",
            "debconf: falling back to frontend: Readline\n",
            "debconf: unable to initialize frontend: Readline\n",
            "debconf: (This frontend requires a controlling tty.)\n",
            "debconf: falling back to frontend: Teletype\n",
            "Processing triggers for libc-bin (2.35-0ubuntu3.1) ...\n",
            "/sbin/ldconfig.real: /usr/local/lib/libtbbbind_2_0.so.3 is not a symbolic link\n",
            "\n",
            "/sbin/ldconfig.real: /usr/local/lib/libtbbmalloc.so.2 is not a symbolic link\n",
            "\n",
            "/sbin/ldconfig.real: /usr/local/lib/libtbbbind_2_5.so.3 is not a symbolic link\n",
            "\n",
            "/sbin/ldconfig.real: /usr/local/lib/libtbbmalloc_proxy.so.2 is not a symbolic link\n",
            "\n",
            "/sbin/ldconfig.real: /usr/local/lib/libtbb.so.12 is not a symbolic link\n",
            "\n",
            "/sbin/ldconfig.real: /usr/local/lib/libtbbbind.so.3 is not a symbolic link\n",
            "\n"
          ]
        }
      ]
    },
    {
      "cell_type": "markdown",
      "source": [
        "#  Instantiate Model and Detect"
      ],
      "metadata": {
        "id": "eb9YvrdIYN2o"
      }
    },
    {
      "cell_type": "code",
      "source": [
        "from paddleocr import PaddleOCR, draw_ocr\n",
        "\n",
        "# Initialize the PaddleOCR instance\n",
        "ocr = PaddleOCR(det_db_thresh=0.1,\n",
        "                use_dilation=True,\n",
        "                det_db_unclip_ratio=3.0,\n",
        "                enable_mkldnn=True)"
      ],
      "metadata": {
        "colab": {
          "base_uri": "https://localhost:8080/"
        },
        "id": "PBszyLmPkQIu",
        "outputId": "ae880253-6c5e-4162-ea55-dc0528bc92f5"
      },
      "execution_count": null,
      "outputs": [
        {
          "output_type": "stream",
          "name": "stdout",
          "text": [
            "[2023/10/16 07:14:14] ppocr DEBUG: Namespace(help='==SUPPRESS==', use_gpu=False, use_xpu=False, use_npu=False, ir_optim=True, use_tensorrt=False, min_subgraph_size=15, precision='fp32', gpu_mem=500, gpu_id=0, image_dir=None, page_num=0, det_algorithm='DB', det_model_dir='/root/.paddleocr/whl/det/ch/ch_PP-OCRv4_det_infer', det_limit_side_len=960, det_limit_type='max', det_box_type='quad', det_db_thresh=0.1, det_db_box_thresh=0.6, det_db_unclip_ratio=3.0, max_batch_size=10, use_dilation=True, det_db_score_mode='fast', det_east_score_thresh=0.8, det_east_cover_thresh=0.1, det_east_nms_thresh=0.2, det_sast_score_thresh=0.5, det_sast_nms_thresh=0.2, det_pse_thresh=0, det_pse_box_thresh=0.85, det_pse_min_area=16, det_pse_scale=1, scales=[8, 16, 32], alpha=1.0, beta=1.0, fourier_degree=5, rec_algorithm='SVTR_LCNet', rec_model_dir='/root/.paddleocr/whl/rec/ch/ch_PP-OCRv4_rec_infer', rec_image_inverse=True, rec_image_shape='3, 48, 320', rec_batch_num=6, max_text_length=25, rec_char_dict_path='/usr/local/lib/python3.10/dist-packages/paddleocr/ppocr/utils/ppocr_keys_v1.txt', use_space_char=True, vis_font_path='./doc/fonts/simfang.ttf', drop_score=0.5, e2e_algorithm='PGNet', e2e_model_dir=None, e2e_limit_side_len=768, e2e_limit_type='max', e2e_pgnet_score_thresh=0.5, e2e_char_dict_path='./ppocr/utils/ic15_dict.txt', e2e_pgnet_valid_set='totaltext', e2e_pgnet_mode='fast', use_angle_cls=False, cls_model_dir='/root/.paddleocr/whl/cls/ch_ppocr_mobile_v2.0_cls_infer', cls_image_shape='3, 48, 192', label_list=['0', '180'], cls_batch_num=6, cls_thresh=0.9, enable_mkldnn=True, cpu_threads=10, use_pdserving=False, warmup=False, sr_model_dir=None, sr_image_shape='3, 32, 128', sr_batch_num=1, draw_img_save_dir='./inference_results', save_crop_res=False, crop_res_save_dir='./output', use_mp=False, total_process_num=1, process_id=0, benchmark=False, save_log_path='./log_output/', show_log=True, use_onnx=False, output='./output', table_max_len=488, table_algorithm='TableAttn', table_model_dir=None, merge_no_span_structure=True, table_char_dict_path=None, layout_model_dir=None, layout_dict_path=None, layout_score_threshold=0.5, layout_nms_threshold=0.5, kie_algorithm='LayoutXLM', ser_model_dir=None, re_model_dir=None, use_visual_backbone=True, ser_dict_path='../train_data/XFUND/class_list_xfun.txt', ocr_order_method=None, mode='structure', image_orientation=False, layout=True, table=True, ocr=True, recovery=False, use_pdf2docx_api=False, invert=False, binarize=False, alphacolor=(255, 255, 255), lang='ch', det=True, rec=True, type='ocr', ocr_version='PP-OCRv4', structure_version='PP-StructureV2')\n"
          ]
        }
      ]
    },
    {
      "cell_type": "code",
      "source": [
        "%%time\n",
        "result1 = ocr.ocr('preprocessed_1.jpg',cls=True)\n",
        "result1"
      ],
      "metadata": {
        "colab": {
          "base_uri": "https://localhost:8080/"
        },
        "id": "YpYTib4nGEi7",
        "outputId": "4c3c6ae5-3dbd-4da7-aa05-78c35f984805"
      },
      "execution_count": null,
      "outputs": [
        {
          "output_type": "stream",
          "name": "stdout",
          "text": [
            "[2023/10/16 07:14:15] ppocr WARNING: Since the angle classifier is not initialized, it will not be used during the forward process\n",
            "[2023/10/16 07:14:30] ppocr DEBUG: dt_boxes num : 1, elapsed : 15.429992914199829\n",
            "[2023/10/16 07:14:34] ppocr DEBUG: rec_res num  : 1, elapsed : 3.577336072921753\n",
            "CPU times: user 29 s, sys: 3.42 s, total: 32.4 s\n",
            "Wall time: 19.1 s\n"
          ]
        },
        {
          "output_type": "execute_result",
          "data": {
            "text/plain": [
              "[[[[[467.0, 406.0], [913.0, 146.0], [993.0, 280.0], [547.0, 540.0]],\n",
              "   ('0225419', 0.9978808760643005)]]]"
            ]
          },
          "metadata": {},
          "execution_count": 33
        }
      ]
    },
    {
      "cell_type": "code",
      "source": [
        "%%time\n",
        "result2 = ocr.ocr('preprocessed_2.jpg')\n",
        "result2"
      ],
      "metadata": {
        "colab": {
          "base_uri": "https://localhost:8080/"
        },
        "id": "uarezm-7Q5kS",
        "outputId": "9db493d8-8731-4e19-dd84-4643283f82ce"
      },
      "execution_count": null,
      "outputs": [
        {
          "output_type": "stream",
          "name": "stdout",
          "text": [
            "[2023/10/16 07:14:34] ppocr WARNING: Since the angle classifier is not initialized, it will not be used during the forward process\n",
            "[2023/10/16 07:14:49] ppocr DEBUG: dt_boxes num : 2, elapsed : 15.064703702926636\n",
            "[2023/10/16 07:15:01] ppocr DEBUG: rec_res num  : 2, elapsed : 11.904857158660889\n",
            "CPU times: user 35 s, sys: 4.68 s, total: 39.7 s\n",
            "Wall time: 27.1 s\n"
          ]
        },
        {
          "output_type": "execute_result",
          "data": {
            "text/plain": [
              "[[[[[421.0, 335.0], [766.0, 213.0], [809.0, 333.0], [465.0, 455.0]],\n",
              "   ('CE-0', 0.6439386606216431)],\n",
              "  [[[454.0, 417.0], [865.0, 267.0], [912.0, 394.0], [502.0, 543.0]],\n",
              "   ('2254', 0.8429700136184692)]]]"
            ]
          },
          "metadata": {},
          "execution_count": 34
        }
      ]
    },
    {
      "cell_type": "code",
      "source": [
        "%%time\n",
        "result3 = ocr.ocr('preprocessed_3.jpg')\n",
        "result3"
      ],
      "metadata": {
        "colab": {
          "base_uri": "https://localhost:8080/"
        },
        "id": "sxryIE1qQ5gW",
        "outputId": "ca80f6b2-7dbf-45e9-f41c-e61c8fb96702"
      },
      "execution_count": null,
      "outputs": [
        {
          "output_type": "stream",
          "name": "stdout",
          "text": [
            "[2023/10/16 07:15:01] ppocr WARNING: Since the angle classifier is not initialized, it will not be used during the forward process\n",
            "[2023/10/16 07:15:18] ppocr DEBUG: dt_boxes num : 2, elapsed : 17.198649168014526\n",
            "[2023/10/16 07:15:26] ppocr DEBUG: rec_res num  : 2, elapsed : 7.761073589324951\n",
            "CPU times: user 34.7 s, sys: 4.05 s, total: 38.8 s\n",
            "Wall time: 25.1 s\n"
          ]
        },
        {
          "output_type": "execute_result",
          "data": {
            "text/plain": [
              "[[[[[420.0, 322.0], [984.0, 322.0], [984.0, 476.0], [420.0, 476.0]],\n",
              "   ('J5--', 0.6801661252975464)],\n",
              "  [[[410.0, 435.0], [934.0, 431.0], [935.0, 593.0], [411.0, 596.0]],\n",
              "   ('02676', 0.8127077221870422)]]]"
            ]
          },
          "metadata": {},
          "execution_count": 35
        }
      ]
    },
    {
      "cell_type": "code",
      "source": [
        "%%time\n",
        "result4 = ocr.ocr('preprocessed_4.jpg')\n",
        "result4"
      ],
      "metadata": {
        "colab": {
          "base_uri": "https://localhost:8080/"
        },
        "id": "eE_OeQT3Q5bE",
        "outputId": "c54cb786-26f3-4c9d-86fd-8c029887ee86"
      },
      "execution_count": null,
      "outputs": [
        {
          "output_type": "stream",
          "name": "stdout",
          "text": [
            "[2023/10/16 07:15:26] ppocr WARNING: Since the angle classifier is not initialized, it will not be used during the forward process\n",
            "[2023/10/16 07:15:41] ppocr DEBUG: dt_boxes num : 2, elapsed : 15.261595010757446\n",
            "[2023/10/16 07:15:51] ppocr DEBUG: rec_res num  : 2, elapsed : 9.221557140350342\n",
            "CPU times: user 34.6 s, sys: 3.65 s, total: 38.3 s\n",
            "Wall time: 24.6 s\n"
          ]
        },
        {
          "output_type": "execute_result",
          "data": {
            "text/plain": [
              "[[[[[360.0, 371.0], [783.0, 242.0], [825.0, 375.0], [402.0, 504.0]],\n",
              "   ('4E-', 0.6567844748497009)],\n",
              "  [[[391.0, 464.0], [830.0, 320.0], [876.0, 457.0], [437.0, 601.0]],\n",
              "   ('02545', 0.69903963804245)]]]"
            ]
          },
          "metadata": {},
          "execution_count": 36
        }
      ]
    },
    {
      "cell_type": "code",
      "source": [
        "%%time\n",
        "result5 = ocr.ocr('preprocessed_5.jpg',cls=True)\n",
        "result5"
      ],
      "metadata": {
        "colab": {
          "base_uri": "https://localhost:8080/"
        },
        "id": "yQzw5nxCQ5VD",
        "outputId": "d9f44d4f-b71d-4c53-bfc0-84ed2c5b82b4"
      },
      "execution_count": null,
      "outputs": [
        {
          "output_type": "stream",
          "name": "stdout",
          "text": [
            "[2023/10/16 07:15:51] ppocr WARNING: Since the angle classifier is not initialized, it will not be used during the forward process\n",
            "[2023/10/16 07:16:07] ppocr DEBUG: dt_boxes num : 2, elapsed : 15.686757326126099\n",
            "[2023/10/16 07:16:13] ppocr DEBUG: rec_res num  : 2, elapsed : 6.507258653640747\n",
            "CPU times: user 34.7 s, sys: 3.98 s, total: 38.6 s\n",
            "Wall time: 22.3 s\n"
          ]
        },
        {
          "output_type": "execute_result",
          "data": {
            "text/plain": [
              "[[[[[350.0, 411.0], [722.0, 209.0], [792.0, 335.0], [420.0, 537.0]],\n",
              "   ('4E-', 0.9018208384513855)],\n",
              "  [[[385.0, 485.0], [788.0, 268.0], [864.0, 405.0], [461.0, 622.0]],\n",
              "   ('026426', 0.7114843726158142)]]]"
            ]
          },
          "metadata": {},
          "execution_count": 37
        }
      ]
    },
    {
      "cell_type": "code",
      "source": [
        "%%time\n",
        "result6 = ocr.ocr('preprocessed_6.jpg',cls=True)\n",
        "result6"
      ],
      "metadata": {
        "colab": {
          "base_uri": "https://localhost:8080/"
        },
        "id": "Gw7agTPmQ5PO",
        "outputId": "b55206c8-c2ff-4711-a24d-9d16a55a5eed"
      },
      "execution_count": null,
      "outputs": [
        {
          "output_type": "stream",
          "name": "stdout",
          "text": [
            "[2023/10/16 07:16:13] ppocr WARNING: Since the angle classifier is not initialized, it will not be used during the forward process\n",
            "[2023/10/16 07:16:29] ppocr DEBUG: dt_boxes num : 2, elapsed : 15.348569631576538\n"
          ]
        }
      ]
    },
    {
      "cell_type": "markdown",
      "source": [
        "#  Visualise Results"
      ],
      "metadata": {
        "id": "U22bFsCgYX90"
      }
    },
    {
      "cell_type": "code",
      "source": [
        "import cv2\n",
        "import matplotlib.pyplot as plt\n",
        "import matplotlib.patches as patches\n",
        "from PIL import Image"
      ],
      "metadata": {
        "id": "jGT20U8ukQEl"
      },
      "execution_count": null,
      "outputs": []
    },
    {
      "cell_type": "code",
      "source": [
        "\n",
        "# Open the image using OpenCV\n",
        "image_path = 'preprocessed_1.jpg'\n",
        "img = cv2.imread(image_path)[..., ::-1]  # Read and convert to RGB format for compatibility with Matplotlib\n",
        "\n",
        "# Create a figure and axis for displaying the image\n",
        "fig, ax = plt.subplots(1, figsize=(10, 10))\n",
        "\n",
        "# Display the input image\n",
        "ax.imshow(img)\n",
        "\n",
        "# Draw bounding boxes and add text labels\n",
        "for line in result1[0]:\n",
        "    points, text = line\n",
        "    top_left = tuple(map(int, points[0]))\n",
        "    bottom_right = tuple(map(int, points[2]))\n",
        "\n",
        "    # Create a bounding box rectangle\n",
        "    rect = patches.Rectangle(top_left, bottom_right[0] - top_left[0], bottom_right[1] - top_left[1], linewidth=2, edgecolor='g', facecolor='none')\n",
        "\n",
        "    # Add the bounding box to the axis\n",
        "    ax.add_patch(rect)\n",
        "\n",
        "    # Add text label\n",
        "    plt.text(top_left[0], top_left[1] - 10, f'{text[0]}', color='r', fontsize=12, weight='bold')\n",
        "\n",
        "# Set axis limits and show the result\n",
        "ax.set_xlim(0, img.shape[1])\n",
        "ax.set_ylim(img.shape[0], 0)\n",
        "plt.axis('off')  # Hide axis labels and ticks\n",
        "plt.show()\n"
      ],
      "metadata": {
        "id": "U3oAyu3h4GGi"
      },
      "execution_count": null,
      "outputs": []
    },
    {
      "cell_type": "code",
      "source": [
        "\n",
        "# Open the image using OpenCV\n",
        "image_path = 'preprocessed_2.jpg'\n",
        "img = cv2.imread(image_path)[..., ::-1]  # Read and convert to RGB format for compatibility with Matplotlib\n",
        "\n",
        "# Create a figure and axis for displaying the image\n",
        "fig, ax = plt.subplots(1, figsize=(10, 10))\n",
        "\n",
        "# Display the input image\n",
        "ax.imshow(img)\n",
        "\n",
        "# Draw bounding boxes and add text labels\n",
        "for line in result2[0]:\n",
        "    points, text = line\n",
        "    top_left = tuple(map(int, points[0]))\n",
        "    bottom_right = tuple(map(int, points[2]))\n",
        "\n",
        "    # Create a bounding box rectangle\n",
        "    rect = patches.Rectangle(top_left, bottom_right[0] - top_left[0], bottom_right[1] - top_left[1], linewidth=2, edgecolor='g', facecolor='none')\n",
        "\n",
        "    # Add the bounding box to the axis\n",
        "    ax.add_patch(rect)\n",
        "\n",
        "    # Add text label\n",
        "    plt.text(top_left[0], top_left[1] - 10, f'{text[0]}', color='r', fontsize=12, weight='bold')\n",
        "\n",
        "# Set axis limits and show the result\n",
        "ax.set_xlim(0, img.shape[1])\n",
        "ax.set_ylim(img.shape[0], 0)\n",
        "plt.axis('off')  # Hide axis labels and ticks\n",
        "plt.show()\n"
      ],
      "metadata": {
        "id": "Vjz-5Xo4Re3u"
      },
      "execution_count": null,
      "outputs": []
    },
    {
      "cell_type": "code",
      "source": [
        "\n",
        "# Open the image using OpenCV\n",
        "image_path = 'preprocessed_3.jpg'\n",
        "img = cv2.imread(image_path)[..., ::-1]  # Read and convert to RGB format for compatibility with Matplotlib\n",
        "\n",
        "# Create a figure and axis for displaying the image\n",
        "fig, ax = plt.subplots(1, figsize=(10, 10))\n",
        "\n",
        "# Display the input image\n",
        "ax.imshow(img)\n",
        "\n",
        "# Draw bounding boxes and add text labels\n",
        "for line in result3[0]:\n",
        "    points, text = line\n",
        "    top_left = tuple(map(int, points[0]))\n",
        "    bottom_right = tuple(map(int, points[2]))\n",
        "\n",
        "    # Create a bounding box rectangle\n",
        "    rect = patches.Rectangle(top_left, bottom_right[0] - top_left[0], bottom_right[1] - top_left[1], linewidth=2, edgecolor='g', facecolor='none')\n",
        "\n",
        "    # Add the bounding box to the axis\n",
        "    ax.add_patch(rect)\n",
        "\n",
        "    # Add text label\n",
        "    plt.text(top_left[0], top_left[1] - 10, f'{text[0]}', color='r', fontsize=12, weight='bold')\n",
        "\n",
        "# Set axis limits and show the result\n",
        "ax.set_xlim(0, img.shape[1])\n",
        "ax.set_ylim(img.shape[0], 0)\n",
        "plt.axis('off')  # Hide axis labels and ticks\n",
        "plt.show()\n"
      ],
      "metadata": {
        "id": "xIy1YwGoReyM"
      },
      "execution_count": null,
      "outputs": []
    },
    {
      "cell_type": "code",
      "source": [
        "\n",
        "# Open the image using OpenCV\n",
        "image_path = 'preprocessed_4.jpg'\n",
        "img = cv2.imread(image_path)[..., ::-1]  # Read and convert to RGB format for compatibility with Matplotlib\n",
        "\n",
        "# Create a figure and axis for displaying the image\n",
        "fig, ax = plt.subplots(1, figsize=(10, 10))\n",
        "\n",
        "# Display the input image\n",
        "ax.imshow(img)\n",
        "\n",
        "# Draw bounding boxes and add text labels\n",
        "for line in result4[0]:\n",
        "    points, text = line\n",
        "    top_left = tuple(map(int, points[0]))\n",
        "    bottom_right = tuple(map(int, points[2]))\n",
        "\n",
        "    # Create a bounding box rectangle\n",
        "    rect = patches.Rectangle(top_left, bottom_right[0] - top_left[0], bottom_right[1] - top_left[1], linewidth=2, edgecolor='g', facecolor='none')\n",
        "\n",
        "    # Add the bounding box to the axis\n",
        "    ax.add_patch(rect)\n",
        "\n",
        "    # Add text label\n",
        "    plt.text(top_left[0], top_left[1] - 10, f'{text[0]}', color='r', fontsize=12, weight='bold')\n",
        "\n",
        "# Set axis limits and show the result\n",
        "ax.set_xlim(0, img.shape[1])\n",
        "ax.set_ylim(img.shape[0], 0)\n",
        "plt.axis('off')  # Hide axis labels and ticks\n",
        "plt.show()\n"
      ],
      "metadata": {
        "id": "EAoGuEbgReuL"
      },
      "execution_count": null,
      "outputs": []
    },
    {
      "cell_type": "code",
      "source": [
        "\n",
        "# Open the image using OpenCV\n",
        "image_path = 'preprocessed_5.jpg'\n",
        "img = cv2.imread(image_path)[..., ::-1]  # Read and convert to RGB format for compatibility with Matplotlib\n",
        "\n",
        "# Create a figure and axis for displaying the image\n",
        "fig, ax = plt.subplots(1, figsize=(10, 10))\n",
        "\n",
        "# Display the input image\n",
        "ax.imshow(img)\n",
        "\n",
        "# Draw bounding boxes and add text labels\n",
        "for line in result5[0]:\n",
        "    points, text = line\n",
        "    top_left = tuple(map(int, points[0]))\n",
        "    bottom_right = tuple(map(int, points[2]))\n",
        "\n",
        "    # Create a bounding box rectangle\n",
        "    rect = patches.Rectangle(top_left, bottom_right[0] - top_left[0], bottom_right[1] - top_left[1], linewidth=2, edgecolor='g', facecolor='none')\n",
        "\n",
        "    # Add the bounding box to the axis\n",
        "    ax.add_patch(rect)\n",
        "\n",
        "    # Add text label\n",
        "    plt.text(top_left[0], top_left[1] - 10, f'{text[0]}', color='r', fontsize=12, weight='bold')\n",
        "\n",
        "# Set axis limits and show the result\n",
        "ax.set_xlim(0, img.shape[1])\n",
        "ax.set_ylim(img.shape[0], 0)\n",
        "plt.axis('off')  # Hide axis labels and ticks\n",
        "plt.show()\n"
      ],
      "metadata": {
        "id": "o1wtqm3rRekZ"
      },
      "execution_count": null,
      "outputs": []
    },
    {
      "cell_type": "code",
      "source": [
        "\n",
        "# Open the image using OpenCV\n",
        "image_path = 'preprocessed_6.jpg'\n",
        "img = cv2.imread(image_path)[..., ::-1]  # Read and convert to RGB format for compatibility with Matplotlib\n",
        "\n",
        "# Create a figure and axis for displaying the image\n",
        "fig, ax = plt.subplots(1, figsize=(10, 10))\n",
        "\n",
        "# Display the input image\n",
        "ax.imshow(img)\n",
        "\n",
        "# Draw bounding boxes and add text labels\n",
        "for line in result6[0]:\n",
        "    points, text = line\n",
        "    top_left = tuple(map(int, points[0]))\n",
        "    bottom_right = tuple(map(int, points[2]))\n",
        "\n",
        "    # Create a bounding box rectangle\n",
        "    rect = patches.Rectangle(top_left, bottom_right[0] - top_left[0], bottom_right[1] - top_left[1], linewidth=2, edgecolor='g', facecolor='none')\n",
        "\n",
        "    # Add the bounding box to the axis\n",
        "    ax.add_patch(rect)\n",
        "\n",
        "    # Add text label\n",
        "    plt.text(top_left[0], top_left[1] - 10, f'{text[0]}', color='r', fontsize=12, weight='bold')\n",
        "\n",
        "# Set axis limits and show the result\n",
        "ax.set_xlim(0, img.shape[1])\n",
        "ax.set_ylim(img.shape[0], 0)\n",
        "plt.axis('off')  # Hide axis labels and ticks\n",
        "plt.show()\n"
      ],
      "metadata": {
        "id": "ziGyJXRKSARc"
      },
      "execution_count": null,
      "outputs": []
    }
  ]
}